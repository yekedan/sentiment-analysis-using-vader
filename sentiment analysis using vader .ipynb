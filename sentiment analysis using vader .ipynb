{
 "cells": [
  {
   "cell_type": "code",
   "execution_count": 1,
   "id": "bb208cd9",
   "metadata": {},
   "outputs": [],
   "source": [
    "from vaderSentiment.vaderSentiment import SentimentIntensityAnalyzer"
   ]
  },
  {
   "cell_type": "code",
   "execution_count": 2,
   "id": "c5bc9db3",
   "metadata": {},
   "outputs": [],
   "source": [
    "sentiment_analyzer = SentimentIntensityAnalyzer()"
   ]
  },
  {
   "cell_type": "code",
   "execution_count": 3,
   "id": "63123e78",
   "metadata": {},
   "outputs": [
    {
     "name": "stdout",
     "output_type": "stream",
     "text": [
      "Sentence This is a great movie!\n",
      "Sentence I loved that book.\n",
      "Sentence I am so happy for you\n",
      "Sentence I do not like this product\n",
      "\n",
      "Sentiment Score {'neg': 0.0, 'neu': 0.477, 'pos': 0.523, 'compound': 0.6588}\n",
      "Sentiment Score {'neg': 0.0, 'neu': 0.435, 'pos': 0.565, 'compound': 0.5994}\n",
      "Sentiment Score {'neg': 0.0, 'neu': 0.513, 'pos': 0.487, 'compound': 0.6948}\n",
      "Sentiment Score {'neg': 0.297, 'neu': 0.703, 'pos': 0.0, 'compound': -0.2755}\n"
     ]
    }
   ],
   "source": [
    "sentence1 = 'This is a great movie!'\n",
    "sentence2 = 'I loved that book.'\n",
    "sentence3 = 'I am so happy for you'\n",
    "sentence4 = 'I do not like this product'\n",
    "\n",
    "scores1 = sentiment_analyzer.polarity_scores(sentence1)\n",
    "scores2 = sentiment_analyzer.polarity_scores(sentence2)\n",
    "scores3 = sentiment_analyzer.polarity_scores(sentence3)\n",
    "scores4 = sentiment_analyzer.polarity_scores(sentence4)\n",
    "\n",
    "print('Sentence', sentence1)\n",
    "print('Sentence', sentence2)\n",
    "print('Sentence', sentence3)\n",
    "print('Sentence', sentence4)\n",
    "\n",
    "print()\n",
    "\n",
    "print('Sentiment Score', scores1)\n",
    "print('Sentiment Score', scores2)\n",
    "print('Sentiment Score', scores3)\n",
    "print('Sentiment Score', scores4)"
   ]
  },
  {
   "cell_type": "code",
   "execution_count": null,
   "id": "b224534a",
   "metadata": {},
   "outputs": [],
   "source": [
    "sentences = ['This is a great movie!', 'I hate this movie', 'I do not like this product', 'I am so happy today']\n",
    "\n",
    "for sent in sentences:\n",
    "    scores = sentiment_analyzer.polarity_scores(sent)\n",
    "    print('Sentence : ')"
   ]
  }
 ],
 "metadata": {
  "kernelspec": {
   "display_name": "Python 3 (ipykernel)",
   "language": "python",
   "name": "python3"
  },
  "language_info": {
   "codemirror_mode": {
    "name": "ipython",
    "version": 3
   },
   "file_extension": ".py",
   "mimetype": "text/x-python",
   "name": "python",
   "nbconvert_exporter": "python",
   "pygments_lexer": "ipython3",
   "version": "3.9.13"
  }
 },
 "nbformat": 4,
 "nbformat_minor": 5
}
